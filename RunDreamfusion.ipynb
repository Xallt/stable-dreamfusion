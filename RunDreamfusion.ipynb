{
 "cells": [
  {
   "cell_type": "markdown",
   "id": "ba9cc3c6-dd6d-425a-914c-a4b3f502d950",
   "metadata": {},
   "source": [
    "# Stable-dreamfusion experiments\n"
   ]
  },
  {
   "cell_type": "code",
   "execution_count": 6,
   "id": "69895e95-f224-45cd-8d1d-d7c99b127110",
   "metadata": {},
   "outputs": [
    {
     "name": "stdout",
     "output_type": "stream",
     "text": [
      "The autoreload extension is already loaded. To reload it, use:\n",
      "  %reload_ext autoreload\n"
     ]
    }
   ],
   "source": [
    "%load_ext autoreload\n",
    "%autoreload 2\n",
    "\n",
    "import os\n",
    "import torch\n",
    "os.environ[\"CUDA_DEVICE_ORDER\"]=\"PCI_BUS_ID\"   # see issue #152\n",
    "os.environ[\"CUDA_VISIBLE_DEVICES\"]=\"4\""
   ]
  },
  {
   "cell_type": "code",
   "execution_count": 7,
   "id": "a2457cfb-811f-45c1-80e3-8b96e7048517",
   "metadata": {},
   "outputs": [],
   "source": [
    "Prompt_text = \"a DSLR photo of a cute elephant\" #@param {type: 'string'}\n",
    "Training_iters = 20000\n",
    "Learning_rate = 1e-3 #@param {type: 'number'}\n",
    "Training_nerf_resolution = 64  #@param {type: 'integer'}\n",
    "Seed = 0 #@param {type: 'integer'}\n",
    "Lambda_entropy = 1e-4 #@param {type: 'number'}\n",
    "Max_steps = 512 #@param {type: 'number'}\n",
    "Checkpoint = 'latest' #@param {type: 'string'}\n",
    "\n",
    "Workspace = \"trial-1\" #@param{type: 'string'}\n",
    "\n",
    "# processings\n",
    "Prompt_text = \"'\" + Prompt_text + \"'\""
   ]
  },
  {
   "cell_type": "code",
   "execution_count": null,
   "id": "29d44287",
   "metadata": {},
   "outputs": [],
   "source": [
    "import torch\n",
    "torch.cuda.empty_cache()\n",
    "\n",
    "%run main.py -O --text {Prompt_text} --workspace {Workspace} --iters {Training_iters} --lr {Learning_rate} --w {Training_nerf_resolution} --h {Training_nerf_resolution} --seed {Seed} --lambda_entropy {Lambda_entropy} --ckpt {Checkpoint} --save_mesh --max_steps {Max_steps}"
   ]
  },
  {
   "cell_type": "code",
   "execution_count": 7,
   "id": "01423bd2-ec28-4492-8ae5-ea0bb8a2f0cc",
   "metadata": {},
   "outputs": [],
   "source": [
    "Workspace_test = \"trial-1\""
   ]
  },
  {
   "cell_type": "code",
   "execution_count": 8,
   "id": "684db078-672b-493c-ab7b-49eb0bc8cb79",
   "metadata": {
    "tags": []
   },
   "outputs": [
    {
     "name": "stdout",
     "output_type": "stream",
     "text": [
      "Namespace(text=None, negative='', O=True, O2=False, test=True, eval_interval=1, workspace='trial-1', guidance='stable-diffusion', seed=0, save_mesh=True, mcubes_resolution=256, decimate_target=100000.0, iters=10000, lr=0.001, warm_iters=500, min_lr=0.0001, ckpt='latest', cuda_ray=True, taichi_ray=False, max_steps=1024, num_steps=64, upsample_steps=32, update_extra_interval=16, max_ray_batch=4096, warmup_iters=2000, jitter_pose=False, uniform_sphere_rate=0.5, bg_radius=1.4, density_activation='softplus', density_thresh=0.1, blob_density=10, blob_radius=0.5, backbone='grid', optim='adan', sd_version='2.1', hf_key=None, fp16=True, vram_O=False, w=64, h=64, bound=1, dt_gamma=0, min_near=0.1, radius_range=[1.0, 1.5], fovy_range=[40, 70], dir_text=True, suppress_face=False, angle_overhead=30, angle_front=60, lambda_entropy=0.0001, lambda_opacity=0, lambda_orient=0.01, lambda_tv=0, gui=False, W=800, H=800, radius=3, fovy=60, light_theta=60, light_phi=0, max_spp=1)\n",
      "NeRFNetwork(\n",
      "  (encoder): GridEncoder: input_dim=3 num_levels=16 level_dim=2 resolution=16 -> 2048 per_level_scale=1.3819 params=(6119864, 2) gridtype=hash align_corners=False interpolation=smoothstep\n",
      "  (sigma_net): MLP(\n",
      "    (net): ModuleList(\n",
      "      (0): Linear(in_features=32, out_features=32, bias=True)\n",
      "      (1): Linear(in_features=32, out_features=4, bias=True)\n",
      "    )\n",
      "  )\n",
      "  (encoder_bg): FreqEncoder: input_dim=3 degree=6 output_dim=39\n",
      "  (bg_net): MLP(\n",
      "    (net): ModuleList(\n",
      "      (0): Linear(in_features=39, out_features=16, bias=True)\n",
      "      (1): Linear(in_features=16, out_features=3, bias=True)\n",
      "    )\n",
      "  )\n",
      ")\n"
     ]
    },
    {
     "data": {
      "text/html": [
       "<pre style=\"white-space:pre;overflow-x:auto;line-height:normal;font-family:Menlo,'DejaVu Sans Mono',consolas,'Courier New',monospace\"><span style=\"font-weight: bold\">[</span>INFO<span style=\"font-weight: bold\">]</span> Cmdline: main.py -O --test --workspace trial-<span style=\"color: #008080; text-decoration-color: #008080; font-weight: bold\">1</span> --save_mesh\n",
       "</pre>\n"
      ],
      "text/plain": [
       "\u001b[1m[\u001b[0mINFO\u001b[1m]\u001b[0m Cmdline: main.py -O --test --workspace trial-\u001b[1;36m1\u001b[0m --save_mesh\n"
      ]
     },
     "metadata": {},
     "output_type": "display_data"
    },
    {
     "data": {
      "text/html": [
       "<pre style=\"white-space:pre;overflow-x:auto;line-height:normal;font-family:Menlo,'DejaVu Sans Mono',consolas,'Courier New',monospace\"><span style=\"font-weight: bold\">[</span>INFO<span style=\"font-weight: bold\">]</span> Trainer: df | <span style=\"color: #008080; text-decoration-color: #008080; font-weight: bold\">2023</span>-<span style=\"color: #008080; text-decoration-color: #008080; font-weight: bold\">04</span>-11_09-<span style=\"color: #008080; text-decoration-color: #008080; font-weight: bold\">45</span>-<span style=\"color: #008080; text-decoration-color: #008080; font-weight: bold\">01</span> | cuda | fp16 | trial-<span style=\"color: #008080; text-decoration-color: #008080; font-weight: bold\">1</span>\n",
       "</pre>\n"
      ],
      "text/plain": [
       "\u001b[1m[\u001b[0mINFO\u001b[1m]\u001b[0m Trainer: df | \u001b[1;36m2023\u001b[0m-\u001b[1;36m04\u001b[0m-11_09-\u001b[1;36m45\u001b[0m-\u001b[1;36m01\u001b[0m | cuda | fp16 | trial-\u001b[1;36m1\u001b[0m\n"
      ]
     },
     "metadata": {},
     "output_type": "display_data"
    },
    {
     "data": {
      "text/html": [
       "<pre style=\"white-space:pre;overflow-x:auto;line-height:normal;font-family:Menlo,'DejaVu Sans Mono',consolas,'Courier New',monospace\"><span style=\"font-weight: bold\">[</span>INFO<span style=\"font-weight: bold\">]</span> #parameters: <span style=\"color: #008080; text-decoration-color: #008080; font-weight: bold\">12241607</span>\n",
       "</pre>\n"
      ],
      "text/plain": [
       "\u001b[1m[\u001b[0mINFO\u001b[1m]\u001b[0m #parameters: \u001b[1;36m12241607\u001b[0m\n"
      ]
     },
     "metadata": {},
     "output_type": "display_data"
    },
    {
     "data": {
      "text/html": [
       "<pre style=\"white-space:pre;overflow-x:auto;line-height:normal;font-family:Menlo,'DejaVu Sans Mono',consolas,'Courier New',monospace\"><span style=\"font-weight: bold\">[</span>INFO<span style=\"font-weight: bold\">]</span> Loading latest checkpoint <span style=\"color: #808000; text-decoration-color: #808000\">...</span>\n",
       "</pre>\n"
      ],
      "text/plain": [
       "\u001b[1m[\u001b[0mINFO\u001b[1m]\u001b[0m Loading latest checkpoint \u001b[33m...\u001b[0m\n"
      ]
     },
     "metadata": {},
     "output_type": "display_data"
    },
    {
     "data": {
      "text/html": [
       "<pre style=\"white-space:pre;overflow-x:auto;line-height:normal;font-family:Menlo,'DejaVu Sans Mono',consolas,'Courier New',monospace\"><span style=\"font-weight: bold\">[</span>INFO<span style=\"font-weight: bold\">]</span> Latest checkpoint is trial-<span style=\"color: #008080; text-decoration-color: #008080; font-weight: bold\">1</span>/checkpoints/df_ep0200.pth\n",
       "</pre>\n"
      ],
      "text/plain": [
       "\u001b[1m[\u001b[0mINFO\u001b[1m]\u001b[0m Latest checkpoint is trial-\u001b[1;36m1\u001b[0m/checkpoints/df_ep0200.pth\n"
      ]
     },
     "metadata": {},
     "output_type": "display_data"
    },
    {
     "data": {
      "text/html": [
       "<pre style=\"white-space:pre;overflow-x:auto;line-height:normal;font-family:Menlo,'DejaVu Sans Mono',consolas,'Courier New',monospace\"><span style=\"font-weight: bold\">[</span>INFO<span style=\"font-weight: bold\">]</span> loaded model.\n",
       "</pre>\n"
      ],
      "text/plain": [
       "\u001b[1m[\u001b[0mINFO\u001b[1m]\u001b[0m loaded model.\n"
      ]
     },
     "metadata": {},
     "output_type": "display_data"
    },
    {
     "data": {
      "text/html": [
       "<pre style=\"white-space:pre;overflow-x:auto;line-height:normal;font-family:Menlo,'DejaVu Sans Mono',consolas,'Courier New',monospace\"><span style=\"font-weight: bold\">[</span>INFO<span style=\"font-weight: bold\">]</span> load at epoch <span style=\"color: #008080; text-decoration-color: #008080; font-weight: bold\">200</span>, global step <span style=\"color: #008080; text-decoration-color: #008080; font-weight: bold\">20000</span>\n",
       "</pre>\n"
      ],
      "text/plain": [
       "\u001b[1m[\u001b[0mINFO\u001b[1m]\u001b[0m load at epoch \u001b[1;36m200\u001b[0m, global step \u001b[1;36m20000\u001b[0m\n"
      ]
     },
     "metadata": {},
     "output_type": "display_data"
    },
    {
     "data": {
      "text/html": [
       "<pre style=\"white-space:pre;overflow-x:auto;line-height:normal;font-family:Menlo,'DejaVu Sans Mono',consolas,'Courier New',monospace\"><span style=\"font-weight: bold\">[</span>WARN<span style=\"font-weight: bold\">]</span> Failed to load optimizer.\n",
       "</pre>\n"
      ],
      "text/plain": [
       "\u001b[1m[\u001b[0mWARN\u001b[1m]\u001b[0m Failed to load optimizer.\n"
      ]
     },
     "metadata": {},
     "output_type": "display_data"
    },
    {
     "data": {
      "text/html": [
       "<pre style=\"white-space:pre;overflow-x:auto;line-height:normal;font-family:Menlo,'DejaVu Sans Mono',consolas,'Courier New',monospace\"><span style=\"font-weight: bold\">[</span>INFO<span style=\"font-weight: bold\">]</span> loaded scheduler.\n",
       "</pre>\n"
      ],
      "text/plain": [
       "\u001b[1m[\u001b[0mINFO\u001b[1m]\u001b[0m loaded scheduler.\n"
      ]
     },
     "metadata": {},
     "output_type": "display_data"
    },
    {
     "data": {
      "text/html": [
       "<pre style=\"white-space:pre;overflow-x:auto;line-height:normal;font-family:Menlo,'DejaVu Sans Mono',consolas,'Courier New',monospace\"><span style=\"font-weight: bold\">[</span>INFO<span style=\"font-weight: bold\">]</span> loaded scaler.\n",
       "</pre>\n"
      ],
      "text/plain": [
       "\u001b[1m[\u001b[0mINFO\u001b[1m]\u001b[0m loaded scaler.\n"
      ]
     },
     "metadata": {},
     "output_type": "display_data"
    },
    {
     "data": {
      "text/html": [
       "<pre style=\"white-space:pre;overflow-x:auto;line-height:normal;font-family:Menlo,'DejaVu Sans Mono',consolas,'Courier New',monospace\">==&gt; Start Test, save results to trial-<span style=\"color: #008080; text-decoration-color: #008080; font-weight: bold\">1</span>/results\n",
       "</pre>\n"
      ],
      "text/plain": [
       "==> Start Test, save results to trial-\u001b[1;36m1\u001b[0m/results\n"
      ]
     },
     "metadata": {},
     "output_type": "display_data"
    },
    {
     "name": "stderr",
     "output_type": "stream",
     "text": [
      "\n",
      "  0% 0/100 [00:00<?, ?it/s]\u001b[A\n",
      "  1% 1/100 [00:00<00:10,  9.17it/s]\u001b[A\n",
      "  3% 3/100 [00:00<00:09,  9.77it/s]\u001b[A\n",
      "  5% 5/100 [00:00<00:09, 10.36it/s]\u001b[A\n",
      "  7% 7/100 [00:00<00:08, 10.51it/s]\u001b[A\n",
      "  9% 9/100 [00:00<00:08, 10.42it/s]\u001b[A\n",
      " 11% 11/100 [00:01<00:08, 10.50it/s]\u001b[A\n",
      " 13% 13/100 [00:01<00:08, 10.45it/s]\u001b[A\n",
      " 15% 15/100 [00:01<00:08, 10.37it/s]\u001b[A\n",
      " 17% 17/100 [00:01<00:08, 10.33it/s]\u001b[A\n",
      " 19% 19/100 [00:01<00:07, 10.32it/s]\u001b[A\n",
      " 21% 21/100 [00:02<00:07, 10.35it/s]\u001b[A\n",
      " 23% 23/100 [00:02<00:07, 10.32it/s]\u001b[A\n",
      " 25% 25/100 [00:02<00:07, 10.26it/s]\u001b[A\n",
      " 27% 27/100 [00:02<00:07, 10.27it/s]\u001b[A\n",
      " 29% 29/100 [00:02<00:06, 10.35it/s]\u001b[A\n",
      " 31% 31/100 [00:02<00:06, 10.38it/s]\u001b[A\n",
      " 33% 33/100 [00:03<00:06, 10.41it/s]\u001b[A\n",
      " 35% 35/100 [00:03<00:06, 10.39it/s]\u001b[A\n",
      " 37% 37/100 [00:03<00:06, 10.36it/s]\u001b[A\n",
      " 39% 39/100 [00:03<00:05, 10.35it/s]\u001b[A\n",
      " 41% 41/100 [00:03<00:05, 10.44it/s]\u001b[A\n",
      " 43% 43/100 [00:04<00:05, 10.50it/s]\u001b[A\n",
      " 45% 45/100 [00:04<00:05, 10.74it/s]\u001b[A\n",
      " 47% 47/100 [00:04<00:04, 11.00it/s]\u001b[A\n",
      " 49% 49/100 [00:04<00:04, 11.05it/s]\u001b[A\n",
      " 51% 51/100 [00:04<00:04, 10.93it/s]\u001b[A\n",
      " 53% 53/100 [00:05<00:04, 10.99it/s]\u001b[A\n",
      " 55% 55/100 [00:05<00:04, 11.04it/s]\u001b[A\n",
      " 57% 57/100 [00:05<00:03, 10.95it/s]\u001b[A\n",
      " 59% 59/100 [00:05<00:03, 10.86it/s]\u001b[A\n",
      " 61% 61/100 [00:05<00:03, 10.83it/s]\u001b[A\n",
      " 63% 63/100 [00:05<00:03, 10.59it/s]\u001b[A\n",
      " 65% 65/100 [00:06<00:03, 10.47it/s]\u001b[A\n",
      " 67% 67/100 [00:06<00:03, 10.52it/s]\u001b[A\n",
      " 69% 69/100 [00:06<00:02, 10.38it/s]\u001b[A\n",
      " 71% 71/100 [00:06<00:02, 10.33it/s]\u001b[A\n",
      " 73% 73/100 [00:06<00:02, 10.38it/s]\u001b[A\n",
      " 75% 75/100 [00:07<00:02, 10.62it/s]\u001b[A\n",
      " 77% 77/100 [00:07<00:02, 10.78it/s]\u001b[A\n",
      " 79% 79/100 [00:07<00:01, 10.96it/s]\u001b[A\n",
      " 81% 81/100 [00:07<00:01, 10.97it/s]\u001b[A\n",
      " 83% 83/100 [00:07<00:01, 11.00it/s]\u001b[A\n",
      " 85% 85/100 [00:08<00:01, 11.03it/s]\u001b[A\n",
      " 87% 87/100 [00:08<00:01, 10.95it/s]\u001b[A\n",
      " 89% 89/100 [00:08<00:01, 10.88it/s]\u001b[A\n",
      " 91% 91/100 [00:08<00:00, 10.92it/s]\u001b[A\n",
      " 93% 93/100 [00:08<00:00, 10.86it/s]\u001b[A\n",
      " 95% 95/100 [00:08<00:00, 10.59it/s]\u001b[A\n",
      " 97% 97/100 [00:09<00:00, 10.62it/s]\u001b[A\n",
      " 99% 99/100 [00:09<00:00, 10.66it/s]\u001b[A"
     ]
    },
    {
     "data": {
      "text/html": [
       "<pre style=\"white-space:pre;overflow-x:auto;line-height:normal;font-family:Menlo,'DejaVu Sans Mono',consolas,'Courier New',monospace\">==&gt; Finished Test.\n",
       "</pre>\n"
      ],
      "text/plain": [
       "==> Finished Test.\n"
      ]
     },
     "metadata": {},
     "output_type": "display_data"
    },
    {
     "name": "stderr",
     "output_type": "stream",
     "text": [
      "100% 100/100 [00:13<00:00,  7.60it/s]\n"
     ]
    },
    {
     "data": {
      "text/html": [
       "<pre style=\"white-space:pre;overflow-x:auto;line-height:normal;font-family:Menlo,'DejaVu Sans Mono',consolas,'Courier New',monospace\">==&gt; Saving mesh to trial-<span style=\"color: #008080; text-decoration-color: #008080; font-weight: bold\">1</span>/mesh\n",
       "</pre>\n"
      ],
      "text/plain": [
       "==> Saving mesh to trial-\u001b[1;36m1\u001b[0m/mesh\n"
      ]
     },
     "metadata": {},
     "output_type": "display_data"
    },
    {
     "name": "stdout",
     "output_type": "stream",
     "text": [
      "[INFO] marching cubes thresh: 2.5 (5.4205704304430536e-37 ~ 108.03471374511719)\n",
      "[INFO] mesh cleaning: (152223, 3) --> (134236, 3), (298310, 3) --> (270893, 3)\n",
      "[INFO] mesh decimation: (134236, 3) --> (48865, 3), (270893, 3) --> (100000, 3)\n",
      "[INFO] running xatlas to unwrap UVs for mesh: v=(48865, 3) f=(100000, 3)\n",
      "[INFO] writing obj mesh to trial-1/mesh/mesh.obj\n",
      "[INFO] writing vertices (48865, 3)\n",
      "[INFO] writing vertices texture coords (109766, 2)\n",
      "[INFO] writing faces (100000, 3)\n"
     ]
    },
    {
     "data": {
      "text/html": [
       "<pre style=\"white-space:pre;overflow-x:auto;line-height:normal;font-family:Menlo,'DejaVu Sans Mono',consolas,'Courier New',monospace\">==&gt; Finished saving mesh.\n",
       "</pre>\n"
      ],
      "text/plain": [
       "==> Finished saving mesh.\n"
      ]
     },
     "metadata": {},
     "output_type": "display_data"
    }
   ],
   "source": [
    "#@title testing \n",
    "%run main.py -O --test --workspace {Workspace_test} --save_mesh"
   ]
  },
  {
   "cell_type": "code",
   "execution_count": 9,
   "id": "4ba53277-9b3b-4111-b027-ebc223063df3",
   "metadata": {},
   "outputs": [
    {
     "data": {
      "text/html": [
       "<pre style=\"white-space:pre;overflow-x:auto;line-height:normal;font-family:Menlo,'DejaVu Sans Mono',consolas,'Courier New',monospace\"><span style=\"color: #800000; text-decoration-color: #800000\">╭─────────────────────────────── </span><span style=\"color: #800000; text-decoration-color: #800000; font-weight: bold\">Traceback </span><span style=\"color: #bf7f7f; text-decoration-color: #bf7f7f; font-weight: bold\">(most recent call last)</span><span style=\"color: #800000; text-decoration-color: #800000\"> ────────────────────────────────╮</span>\n",
       "<span style=\"color: #800000; text-decoration-color: #800000\">│</span> in <span style=\"color: #00ff00; text-decoration-color: #00ff00\">&lt;module&gt;</span>:<span style=\"color: #0000ff; text-decoration-color: #0000ff\">19</span>                                                                                   <span style=\"color: #800000; text-decoration-color: #800000\">│</span>\n",
       "<span style=\"color: #800000; text-decoration-color: #800000\">│</span>                                                                                                  <span style=\"color: #800000; text-decoration-color: #800000\">│</span>\n",
       "<span style=\"color: #800000; text-decoration-color: #800000\">│</span>   <span style=\"color: #7f7f7f; text-decoration-color: #7f7f7f\">16 │   </span>                                                                                        <span style=\"color: #800000; text-decoration-color: #800000\">│</span>\n",
       "<span style=\"color: #800000; text-decoration-color: #800000\">│</span>   <span style=\"color: #7f7f7f; text-decoration-color: #7f7f7f\">17 │   </span><span style=\"color: #0000ff; text-decoration-color: #0000ff\">return</span> HTML(<span style=\"color: #808000; text-decoration-color: #808000\">f\"\"\"&lt;video width={</span>video_width<span style=\"color: #808000; text-decoration-color: #808000\">} controls&gt;&lt;source src=\"{</span>video_url<span style=\"color: #808000; text-decoration-color: #808000\">}\"&gt;&lt;/vide</span>    <span style=\"color: #800000; text-decoration-color: #800000\">│</span>\n",
       "<span style=\"color: #800000; text-decoration-color: #800000\">│</span>   <span style=\"color: #7f7f7f; text-decoration-color: #7f7f7f\">18 </span>                                                                                            <span style=\"color: #800000; text-decoration-color: #800000\">│</span>\n",
       "<span style=\"color: #800000; text-decoration-color: #800000\">│</span> <span style=\"color: #800000; text-decoration-color: #800000\">❱ </span>19 rgb_video = get_latest_file(os.path.join(Workspace, <span style=\"color: #808000; text-decoration-color: #808000\">'results'</span>, <span style=\"color: #808000; text-decoration-color: #808000\">'*_rgb.mp4'</span>))                <span style=\"color: #800000; text-decoration-color: #800000\">│</span>\n",
       "<span style=\"color: #800000; text-decoration-color: #800000\">│</span>   <span style=\"color: #7f7f7f; text-decoration-color: #7f7f7f\">20 </span>show_video(rgb_video)                                                                       <span style=\"color: #800000; text-decoration-color: #800000\">│</span>\n",
       "<span style=\"color: #800000; text-decoration-color: #800000\">│</span>   <span style=\"color: #7f7f7f; text-decoration-color: #7f7f7f\">21 </span>                                                                                            <span style=\"color: #800000; text-decoration-color: #800000\">│</span>\n",
       "<span style=\"color: #800000; text-decoration-color: #800000\">│</span>                                                                                                  <span style=\"color: #800000; text-decoration-color: #800000\">│</span>\n",
       "<span style=\"color: #800000; text-decoration-color: #800000\">│</span> in <span style=\"color: #00ff00; text-decoration-color: #00ff00\">get_latest_file</span>:<span style=\"color: #0000ff; text-decoration-color: #0000ff\">10</span>                                                                            <span style=\"color: #800000; text-decoration-color: #800000\">│</span>\n",
       "<span style=\"color: #800000; text-decoration-color: #800000\">│</span>                                                                                                  <span style=\"color: #800000; text-decoration-color: #800000\">│</span>\n",
       "<span style=\"color: #800000; text-decoration-color: #800000\">│</span>   <span style=\"color: #7f7f7f; text-decoration-color: #7f7f7f\"> 7 </span><span style=\"color: #0000ff; text-decoration-color: #0000ff\">def</span> <span style=\"color: #00ff00; text-decoration-color: #00ff00\">get_latest_file</span>(path):                                                                  <span style=\"color: #800000; text-decoration-color: #800000\">│</span>\n",
       "<span style=\"color: #800000; text-decoration-color: #800000\">│</span>   <span style=\"color: #7f7f7f; text-decoration-color: #7f7f7f\"> 8 │   </span>dir_list = glob.glob(path)                                                              <span style=\"color: #800000; text-decoration-color: #800000\">│</span>\n",
       "<span style=\"color: #800000; text-decoration-color: #800000\">│</span>   <span style=\"color: #7f7f7f; text-decoration-color: #7f7f7f\"> 9 │   </span>dir_list.sort(key=<span style=\"color: #0000ff; text-decoration-color: #0000ff\">lambda</span> x: os.path.getmtime(x))                                        <span style=\"color: #800000; text-decoration-color: #800000\">│</span>\n",
       "<span style=\"color: #800000; text-decoration-color: #800000\">│</span> <span style=\"color: #800000; text-decoration-color: #800000\">❱ </span>10 <span style=\"color: #7f7f7f; text-decoration-color: #7f7f7f\">│   </span><span style=\"color: #0000ff; text-decoration-color: #0000ff\">return</span> dir_list[-<span style=\"color: #0000ff; text-decoration-color: #0000ff\">1</span>]                                                                     <span style=\"color: #800000; text-decoration-color: #800000\">│</span>\n",
       "<span style=\"color: #800000; text-decoration-color: #800000\">│</span>   <span style=\"color: #7f7f7f; text-decoration-color: #7f7f7f\">11 </span>                                                                                            <span style=\"color: #800000; text-decoration-color: #800000\">│</span>\n",
       "<span style=\"color: #800000; text-decoration-color: #800000\">│</span>   <span style=\"color: #7f7f7f; text-decoration-color: #7f7f7f\">12 </span><span style=\"color: #0000ff; text-decoration-color: #0000ff\">def</span> <span style=\"color: #00ff00; text-decoration-color: #00ff00\">show_video</span>(video_path, video_width = <span style=\"color: #0000ff; text-decoration-color: #0000ff\">600</span>):                                              <span style=\"color: #800000; text-decoration-color: #800000\">│</span>\n",
       "<span style=\"color: #800000; text-decoration-color: #800000\">│</span>   <span style=\"color: #7f7f7f; text-decoration-color: #7f7f7f\">13 </span>                                                                                            <span style=\"color: #800000; text-decoration-color: #800000\">│</span>\n",
       "<span style=\"color: #800000; text-decoration-color: #800000\">╰──────────────────────────────────────────────────────────────────────────────────────────────────╯</span>\n",
       "<span style=\"color: #ff0000; text-decoration-color: #ff0000; font-weight: bold\">IndexError: </span>list index out of range\n",
       "</pre>\n"
      ],
      "text/plain": [
       "\u001b[31m╭─\u001b[0m\u001b[31m──────────────────────────────\u001b[0m\u001b[31m \u001b[0m\u001b[1;31mTraceback \u001b[0m\u001b[1;2;31m(most recent call last)\u001b[0m\u001b[31m \u001b[0m\u001b[31m───────────────────────────────\u001b[0m\u001b[31m─╮\u001b[0m\n",
       "\u001b[31m│\u001b[0m in \u001b[92m<module>\u001b[0m:\u001b[94m19\u001b[0m                                                                                   \u001b[31m│\u001b[0m\n",
       "\u001b[31m│\u001b[0m                                                                                                  \u001b[31m│\u001b[0m\n",
       "\u001b[31m│\u001b[0m   \u001b[2m16 \u001b[0m\u001b[2m│   \u001b[0m                                                                                        \u001b[31m│\u001b[0m\n",
       "\u001b[31m│\u001b[0m   \u001b[2m17 \u001b[0m\u001b[2m│   \u001b[0m\u001b[94mreturn\u001b[0m HTML(\u001b[33mf\u001b[0m\u001b[33m\"\"\"\u001b[0m\u001b[33m<video width=\u001b[0m\u001b[33m{\u001b[0mvideo_width\u001b[33m}\u001b[0m\u001b[33m controls><source src=\u001b[0m\u001b[33m\"\u001b[0m\u001b[33m{\u001b[0mvideo_url\u001b[33m}\u001b[0m\u001b[33m\"\u001b[0m\u001b[33m></vide\u001b[0m    \u001b[31m│\u001b[0m\n",
       "\u001b[31m│\u001b[0m   \u001b[2m18 \u001b[0m                                                                                            \u001b[31m│\u001b[0m\n",
       "\u001b[31m│\u001b[0m \u001b[31m❱ \u001b[0m19 rgb_video = get_latest_file(os.path.join(Workspace, \u001b[33m'\u001b[0m\u001b[33mresults\u001b[0m\u001b[33m'\u001b[0m, \u001b[33m'\u001b[0m\u001b[33m*_rgb.mp4\u001b[0m\u001b[33m'\u001b[0m))                \u001b[31m│\u001b[0m\n",
       "\u001b[31m│\u001b[0m   \u001b[2m20 \u001b[0mshow_video(rgb_video)                                                                       \u001b[31m│\u001b[0m\n",
       "\u001b[31m│\u001b[0m   \u001b[2m21 \u001b[0m                                                                                            \u001b[31m│\u001b[0m\n",
       "\u001b[31m│\u001b[0m                                                                                                  \u001b[31m│\u001b[0m\n",
       "\u001b[31m│\u001b[0m in \u001b[92mget_latest_file\u001b[0m:\u001b[94m10\u001b[0m                                                                            \u001b[31m│\u001b[0m\n",
       "\u001b[31m│\u001b[0m                                                                                                  \u001b[31m│\u001b[0m\n",
       "\u001b[31m│\u001b[0m   \u001b[2m 7 \u001b[0m\u001b[94mdef\u001b[0m \u001b[92mget_latest_file\u001b[0m(path):                                                                  \u001b[31m│\u001b[0m\n",
       "\u001b[31m│\u001b[0m   \u001b[2m 8 \u001b[0m\u001b[2m│   \u001b[0mdir_list = glob.glob(path)                                                              \u001b[31m│\u001b[0m\n",
       "\u001b[31m│\u001b[0m   \u001b[2m 9 \u001b[0m\u001b[2m│   \u001b[0mdir_list.sort(key=\u001b[94mlambda\u001b[0m x: os.path.getmtime(x))                                        \u001b[31m│\u001b[0m\n",
       "\u001b[31m│\u001b[0m \u001b[31m❱ \u001b[0m10 \u001b[2m│   \u001b[0m\u001b[94mreturn\u001b[0m dir_list[-\u001b[94m1\u001b[0m]                                                                     \u001b[31m│\u001b[0m\n",
       "\u001b[31m│\u001b[0m   \u001b[2m11 \u001b[0m                                                                                            \u001b[31m│\u001b[0m\n",
       "\u001b[31m│\u001b[0m   \u001b[2m12 \u001b[0m\u001b[94mdef\u001b[0m \u001b[92mshow_video\u001b[0m(video_path, video_width = \u001b[94m600\u001b[0m):                                              \u001b[31m│\u001b[0m\n",
       "\u001b[31m│\u001b[0m   \u001b[2m13 \u001b[0m                                                                                            \u001b[31m│\u001b[0m\n",
       "\u001b[31m╰──────────────────────────────────────────────────────────────────────────────────────────────────╯\u001b[0m\n",
       "\u001b[1;91mIndexError: \u001b[0mlist index out of range\n"
      ]
     },
     "metadata": {},
     "output_type": "display_data"
    }
   ],
   "source": [
    "#@title display RGB video\n",
    "import os\n",
    "import glob\n",
    "from IPython.display import HTML\n",
    "from base64 import b64encode\n",
    "\n",
    "def get_latest_file(path):\n",
    "    dir_list = glob.glob(path)\n",
    "    dir_list.sort(key=lambda x: os.path.getmtime(x))\n",
    "    return dir_list[-1]\n",
    "\n",
    "def show_video(video_path, video_width = 600):\n",
    "\n",
    "    video_file = open(video_path, \"r+b\").read()\n",
    "    video_url = f\"data:video/mp4;base64,{b64encode(video_file).decode()}\"\n",
    "\n",
    "    return HTML(f\"\"\"<video width={video_width} controls><source src=\"{video_url}\"></video>\"\"\")\n",
    " \n",
    "rgb_video = get_latest_file(os.path.join(Workspace, 'results', '*_rgb.mp4'))\n",
    "show_video(rgb_video)"
   ]
  },
  {
   "cell_type": "code",
   "execution_count": null,
   "id": "5153b9d3-11dc-4a97-a0a6-b0ce0661b2fd",
   "metadata": {},
   "outputs": [],
   "source": []
  }
 ],
 "metadata": {
  "kernelspec": {
   "display_name": "dreamfusion",
   "language": "python",
   "name": "python3"
  },
  "language_info": {
   "codemirror_mode": {
    "name": "ipython",
    "version": 3
   },
   "file_extension": ".py",
   "mimetype": "text/x-python",
   "name": "python",
   "nbconvert_exporter": "python",
   "pygments_lexer": "ipython3",
   "version": "3.10.9"
  }
 },
 "nbformat": 4,
 "nbformat_minor": 5
}
