{
 "cells": [
  {
   "cell_type": "code",
   "execution_count": 1,
   "metadata": {},
   "outputs": [],
   "source": [
    "%load_ext autoreload\n",
    "%autoreload 2\n",
    "\n",
    "import torch\n",
    "import numpy as np\n",
    "import matplotlib.pyplot as plt\n",
    "import os\n",
    "import sys\n",
    "import argparse\n",
    "\n",
    "os.environ[\"CUDA_DEVICE_ORDER\"]=\"PCI_BUS_ID\"   # see issue #152\n",
    "os.environ[\"CUDA_VISIBLE_DEVICES\"]=\"0\""
   ]
  },
  {
   "cell_type": "code",
   "execution_count": 2,
   "metadata": {},
   "outputs": [
    {
     "name": "stdout",
     "output_type": "stream",
     "text": [
      "Warning:\n",
      "Unable to load the following plugins:\n",
      "\n",
      "\tlibio_e57.so: libio_e57.so does not seem to be a Qt Plugin.\n",
      "\n",
      "Cannot load library /home/dmitry/.virtualenv/dreamfusion/lib/python3.10/site-packages/pymeshlab/lib/plugins/libio_e57.so: (/lib/x86_64-linux-gnu/libp11-kit.so.0: undefined symbol: ffi_type_pointer, version LIBFFI_BASE_7.0)\n",
      "\n"
     ]
    }
   ],
   "source": [
    "from neus.fields import SDFNetwork, RenderingNetwork, NeRF, SingleVarianceNetwork\n",
    "from neus.network import NeuSNetwork"
   ]
  },
  {
   "cell_type": "code",
   "execution_count": 3,
   "metadata": {},
   "outputs": [],
   "source": [
    "from pyhocon import ConfigFactory"
   ]
  },
  {
   "cell_type": "code",
   "execution_count": 4,
   "metadata": {},
   "outputs": [],
   "source": [
    "parser = argparse.ArgumentParser()\n",
    "parser.add_argument('--conf', type=str, default='./confs/base.conf')\n",
    "parser.add_argument('--mode', type=str, default='train')\n",
    "parser.add_argument('--mcube_threshold', type=float, default=0.0)\n",
    "parser.add_argument('--is_continue', default=False, action=\"store_true\")\n",
    "parser.add_argument('--gpu', type=int, default=0)\n",
    "parser.add_argument('--case', type=str, default='')\n",
    "\n",
    "args = parser.parse_args([\n",
    "    '--conf', '/home/dmitry/clones/NeuS/confs/womask.conf',\n",
    "    '--mode', 'train',\n",
    "    '--mcube_threshold', '0.0',\n",
    "    '--is_continue',\n",
    "    '--gpu', '0',\n",
    "    '--case', 'womask'\n",
    "])"
   ]
  },
  {
   "cell_type": "code",
   "execution_count": 5,
   "metadata": {},
   "outputs": [],
   "source": [
    "f = open(args.conf)\n",
    "conf_text = f.read()\n",
    "conf_text = conf_text.replace('CASE_NAME', args.case)\n",
    "f.close()\n",
    "\n",
    "conf = ConfigFactory.parse_string(conf_text)"
   ]
  },
  {
   "cell_type": "code",
   "execution_count": 6,
   "metadata": {},
   "outputs": [],
   "source": [
    "class SphereSDF(torch.nn.Module):\n",
    "    def __init__(self, radius, pos, appearance_dim):\n",
    "        super().__init__()\n",
    "\n",
    "        self.radius = radius\n",
    "        self.pos = pos\n",
    "        self.appearance_dim = appearance_dim\n",
    "    def forward(self, x):\n",
    "        dist = torch.norm(x - self.pos[None], dim=-1, keepdim=True) - self.radius\n",
    "        hidden_appearance = (dist < 0).to(torch.float32).expand(-1, self.appearance_dim)\n",
    "        return torch.cat([dist, hidden_appearance], dim=-1)\n",
    "    def sdf(self, x):\n",
    "        return self.forward(x)[:, :1]\n",
    "    def gradient(self, x):\n",
    "        x.requires_grad_(True)\n",
    "        y = self.sdf(x)\n",
    "        d_output = torch.ones_like(y, requires_grad=False, device=y.device)\n",
    "        gradients = torch.autograd.grad(\n",
    "            outputs=y,\n",
    "            inputs=x,\n",
    "            grad_outputs=d_output,\n",
    "            create_graph=True,\n",
    "            retain_graph=True,\n",
    "            only_inputs=True)[0]\n",
    "        return gradients.unsqueeze(1)"
   ]
  },
  {
   "cell_type": "code",
   "execution_count": 8,
   "metadata": {},
   "outputs": [
    {
     "name": "stdout",
     "output_type": "stream",
     "text": [
      "Applying NeuS geometric init\n"
     ]
    }
   ],
   "source": [
    "device = 'cuda:0'\n",
    "model = NeuSNetwork(\n",
    "    conf['model.nerf'],\n",
    "    conf['model.sdf_network'],\n",
    "    conf['model.variance_network'],\n",
    "    conf['model.rendering_network'],\n",
    "    **conf['model.neus_renderer']\n",
    ").to(device)"
   ]
  },
  {
   "cell_type": "code",
   "execution_count": 9,
   "metadata": {},
   "outputs": [],
   "source": [
    "rays_o = torch.rand(1, 10, 3).to(device)\n",
    "rays_d = torch.rand(1, 10, 3).to(device)"
   ]
  },
  {
   "attachments": {},
   "cell_type": "markdown",
   "metadata": {},
   "source": [
    "### Some important notes\n",
    "- Default camera position is at (0,0,0) and looks at (0,0,1)\n",
    "- n_outside has to be 0 so that the background NeRF does not interfere"
   ]
  },
  {
   "cell_type": "code",
   "execution_count": 10,
   "metadata": {},
   "outputs": [],
   "source": [
    "def focal_length_to_intrinsic(focal_length, H, W, device='cpu'):\n",
    "    K = torch.eye(3, device=device)\n",
    "    K[0, 0] = W / focal_length\n",
    "    K[1, 1] = H / focal_length\n",
    "    K[0, 2] = W / 2\n",
    "    K[1, 2] = H / 2\n",
    "    return K\n",
    "def sample_rays(RT, focal_length, H, W, device='cpu'):\n",
    "    \"\"\"\n",
    "    Input:\n",
    "        RT: 4x4 - camera extrinsic matrix\n",
    "        K: 3x3 - camera intrinsic matrix\n",
    "        H: int - image height\n",
    "        W: int - image width\n",
    "    Output:\n",
    "        rays_o: Nx3 - ray origins\n",
    "        rays_d: Nx3 - ray directions\n",
    "    \"\"\"\n",
    "    K = focal_length_to_intrinsic(focal_length, H, W, device=device)\n",
    "    x, y = torch.meshgrid(torch.arange(W, dtype=torch.float32, device=device), torch.arange(H, dtype=torch.float32, device=device))\n",
    "    x = x.reshape(-1)\n",
    "    y = y.reshape(-1)\n",
    "    z = torch.ones_like(x)\n",
    "    rays_d_screen = torch.stack([x, y, z], axis=1)\n",
    "    rays_d_camera = rays_d_screen @ torch.linalg.inv(K).T\n",
    "    c2w = torch.linalg.inv(RT)\n",
    "    rays_d = rays_d_camera @ c2w[:3, :3].T\n",
    "    rays_o = c2w[:3, 3][None].expand(rays_d.shape[0], -1)\n",
    "\n",
    "    return rays_o, rays_d\n",
    "\n",
    "def sample_points(rays_o, rays_d, near, far, num_steps, device='cpu'):\n",
    "    \"\"\"\n",
    "    Input:\n",
    "        rays_o: Nx3 - ray origins\n",
    "        rays_d: Nx3 - ray directions\n",
    "        near: float - near plane\n",
    "        far: float - far plane\n",
    "    Output:\n",
    "        points: Nx3 - sampled points\n",
    "    \"\"\"\n",
    "    t = torch.linspace(near, far, steps=num_steps, device=device)\n",
    "    points = rays_o[:, None] + rays_d[:, None] * t[None, :, None]\n",
    "    return points"
   ]
  },
  {
   "cell_type": "code",
   "execution_count": 11,
   "metadata": {},
   "outputs": [
    {
     "name": "stderr",
     "output_type": "stream",
     "text": [
      "/home/dmitry/.virtualenv/dreamfusion/lib/python3.10/site-packages/torch/functional.py:504: UserWarning: torch.meshgrid: in an upcoming release, it will be required to pass the indexing argument. (Triggered internally at ../aten/src/ATen/native/TensorShape.cpp:3483.)\n",
      "  return _VF.meshgrid(tensors, **kwargs)  # type: ignore[attr-defined]\n"
     ]
    }
   ],
   "source": [
    "RT = torch.eye(4).to(device)\n",
    "RT[2, 3] = 5\n",
    "focal_length = 1\n",
    "H = W = 32\n",
    "\n",
    "rays_o, rays_d = sample_rays(RT, focal_length, H, W, device=device)\n",
    "# points = sample_points(rays_o, rays_d, near=0.1, far=1.0, num_steps=64, device=device)"
   ]
  },
  {
   "cell_type": "code",
   "execution_count": 12,
   "metadata": {},
   "outputs": [
    {
     "name": "stdout",
     "output_type": "stream",
     "text": [
      "tensor(0., device='cuda:0') tensor(2.0848, device='cuda:0')\n",
      "tensor(0., device='cuda:0') tensor(1.7902, device='cuda:0')\n",
      "tensor(0., device='cuda:0') tensor(2.3307, device='cuda:0')\n",
      "tensor(0., device='cuda:0') tensor(3.2500, device='cuda:0')\n",
      "tensor(-0.3461, device='cuda:0') tensor(5.4170, device='cuda:0')\n",
      "tensor(0., device='cuda:0', grad_fn=<MinBackward1>) tensor(2.0954, device='cuda:0', grad_fn=<MaxBackward1>)\n",
      "tensor(0., device='cuda:0', grad_fn=<MinBackward1>) tensor(1.7949, device='cuda:0', grad_fn=<MaxBackward1>)\n",
      "tensor(0., device='cuda:0', grad_fn=<MinBackward1>) tensor(2.3357, device='cuda:0', grad_fn=<MaxBackward1>)\n",
      "tensor(0., device='cuda:0', grad_fn=<MinBackward1>) tensor(3.2629, device='cuda:0', grad_fn=<MaxBackward1>)\n",
      "tensor(-0.3463, device='cuda:0', grad_fn=<MinBackward1>) tensor(5.4377, device='cuda:0', grad_fn=<MaxBackward1>)\n"
     ]
    }
   ],
   "source": [
    "res = model.run(\n",
    "    rays_o, rays_d,\n",
    "    # near=0.1, far=5.0,\n",
    "    # cos_anneal_ratio=1.0\n",
    ")"
   ]
  },
  {
   "cell_type": "code",
   "execution_count": 16,
   "metadata": {},
   "outputs": [
    {
     "name": "stdout",
     "output_type": "stream",
     "text": [
      "tensor(0., device='cuda:0', grad_fn=<MinBackward1>) tensor(1.4846, device='cuda:0', grad_fn=<MaxBackward1>)\n",
      "tensor(0., device='cuda:0', grad_fn=<MinBackward1>) tensor(1.8767, device='cuda:0', grad_fn=<MaxBackward1>)\n",
      "tensor(0., device='cuda:0', grad_fn=<MinBackward1>) tensor(1.4968, device='cuda:0', grad_fn=<MaxBackward1>)\n",
      "tensor(0., device='cuda:0', grad_fn=<MinBackward1>) tensor(2.3038, device='cuda:0', grad_fn=<MaxBackward1>)\n",
      "tensor(3.6918, device='cuda:0', grad_fn=<MinBackward1>) tensor(3.6944, device='cuda:0', grad_fn=<MaxBackward1>)\n"
     ]
    },
    {
     "data": {
      "text/plain": [
       "tensor([[3.6929]], device='cuda:0', grad_fn=<SliceBackward0>)"
      ]
     },
     "execution_count": 16,
     "metadata": {},
     "output_type": "execute_result"
    }
   ],
   "source": [
    "model.sdf_network(torch.tensor([0.0, 0.0, 0.0]).view(1, -1).to(device) + 3)[:, :1]"
   ]
  },
  {
   "cell_type": "code",
   "execution_count": 17,
   "metadata": {},
   "outputs": [],
   "source": [
    "rgb = res['image'].view(32, 32, 3)\n",
    "weight_sum = res['weights_sum'].view(32, 32)"
   ]
  },
  {
   "cell_type": "code",
   "execution_count": 18,
   "metadata": {},
   "outputs": [
    {
     "data": {
      "text/plain": [
       "tensor([-0.0133, -0.0120, -0.0191,  0.0000,  0.0000,  0.0000,  0.0000,  0.0000,\n",
       "         0.0000,  0.0000,  0.0000,  0.0000,  0.0000,  0.0000,  0.0000,  0.0000,\n",
       "         0.0000,  0.0000,  0.0000,  0.0000,  0.0000,  0.0000,  0.0000,  0.0000,\n",
       "         0.0000,  0.0000,  0.0000,  0.0000,  0.0000,  0.0000,  0.0000,  0.0000,\n",
       "         0.0000,  0.0000,  0.0000,  0.0000,  0.0000,  0.0000,  0.0000],\n",
       "       device='cuda:0', grad_fn=<MeanBackward1>)"
      ]
     },
     "execution_count": 18,
     "metadata": {},
     "output_type": "execute_result"
    }
   ],
   "source": [
    "model.sdf_network.lin0.weight.mean(0)"
   ]
  },
  {
   "cell_type": "code",
   "execution_count": 19,
   "metadata": {},
   "outputs": [
    {
     "data": {
      "text/plain": [
       "<matplotlib.image.AxesImage at 0x7f7a7d4743a0>"
      ]
     },
     "execution_count": 19,
     "metadata": {},
     "output_type": "execute_result"
    },
    {
     "data": {
      "image/png": "[encoded data removed]",
      "text/plain": [
       "<Figure size 640x480 with 2 Axes>"
      ]
     },
     "metadata": {},
     "output_type": "display_data"
    }
   ],
   "source": [
    "plt.subplot(1, 2, 1)\n",
    "plt.title('RGB')\n",
    "plt.imshow(rgb.detach().cpu())\n",
    "plt.subplot(1, 2, 2)\n",
    "plt.title('Weight sum')\n",
    "plt.imshow(weight_sum.detach().cpu())"
   ]
  },
  {
   "attachments": {},
   "cell_type": "markdown",
   "metadata": {},
   "source": [
    "# Test that changes to the NeRFRenderer class don't change anything"
   ]
  },
  {
   "cell_type": "code",
   "execution_count": 8,
   "metadata": {},
   "outputs": [
    {
     "name": "stdout",
     "output_type": "stream",
     "text": [
      "The autoreload extension is already loaded. To reload it, use:\n",
      "  %reload_ext autoreload\n"
     ]
    }
   ],
   "source": [
    "%load_ext autoreload\n",
    "%autoreload 2\n",
    "\n",
    "from nerf.network import NeRFNetwork\n",
    "from neus.renderer import NeuSRenderer, NeuSRendererNew\n",
    "from main import parse_args\n",
    "import torch"
   ]
  },
  {
   "cell_type": "code",
   "execution_count": 9,
   "metadata": {},
   "outputs": [],
   "source": [
    "opt = parse_args(\"--text \\\"hamburger\\\" --workspace trial -O\".split())"
   ]
  },
  {
   "cell_type": "code",
   "execution_count": 10,
   "metadata": {},
   "outputs": [],
   "source": [
    "nerf_network = NeRFNetwork(opt)\n",
    "nerf_network.training = False # Make everything deterministic"
   ]
  },
  {
   "cell_type": "code",
   "execution_count": 11,
   "metadata": {},
   "outputs": [],
   "source": [
    "rays_o = torch.rand(1, 10, 3)\n",
    "rays_d = torch.rand(1, 10, 3)"
   ]
  },
  {
   "cell_type": "code",
   "execution_count": 12,
   "metadata": {},
   "outputs": [],
   "source": [
    "old_result = nerf_network.run(rays_o, rays_d, perturb=False)\n",
    "# new_result = nerf_network.run_new(rays_o, rays_d, perturb=False)"
   ]
  },
  {
   "cell_type": "code",
   "execution_count": 66,
   "metadata": {},
   "outputs": [
    {
     "name": "stderr",
     "output_type": "stream",
     "text": [
      "[autoreload of neus.renderer failed: Traceback (most recent call last):\n",
      "  File \"/home/dmitry/.virtualenv/dreamfusion/lib/python3.10/site-packages/IPython/extensions/autoreload.py\", line 273, in check\n",
      "    superreload(m, reload, self.old_objects)\n",
      "  File \"/home/dmitry/.virtualenv/dreamfusion/lib/python3.10/site-packages/IPython/extensions/autoreload.py\", line 496, in superreload\n",
      "    update_generic(old_obj, new_obj)\n",
      "  File \"/home/dmitry/.virtualenv/dreamfusion/lib/python3.10/site-packages/IPython/extensions/autoreload.py\", line 393, in update_generic\n",
      "    update(a, b)\n",
      "  File \"/home/dmitry/.virtualenv/dreamfusion/lib/python3.10/site-packages/IPython/extensions/autoreload.py\", line 345, in update_class\n",
      "    if update_generic(old_obj, new_obj):\n",
      "  File \"/home/dmitry/.virtualenv/dreamfusion/lib/python3.10/site-packages/IPython/extensions/autoreload.py\", line 393, in update_generic\n",
      "    update(a, b)\n",
      "  File \"/home/dmitry/.virtualenv/dreamfusion/lib/python3.10/site-packages/IPython/extensions/autoreload.py\", line 305, in update_function\n",
      "    setattr(old, name, getattr(new, name))\n",
      "ValueError: __init__() requires a code object with 0 free vars, not 1\n",
      "]\n"
     ]
    },
    {
     "data": {
      "text/plain": [
       "tensor([[[0.4959, 0.5629, 0.5796],\n",
       "         [0.5054, 0.5031, 0.5740],\n",
       "         [0.5046, 0.4714, 0.5841],\n",
       "         [0.4463, 0.5485, 0.6226],\n",
       "         [0.4465, 0.5464, 0.6316],\n",
       "         [0.5082, 0.5443, 0.5862],\n",
       "         [0.4376, 0.5120, 0.6027],\n",
       "         [0.6115, 0.4207, 0.4754],\n",
       "         [0.4730, 0.5293, 0.5742],\n",
       "         [0.4916, 0.5071, 0.5745]]], grad_fn=<ViewBackward0>)"
      ]
     },
     "execution_count": 66,
     "metadata": {},
     "output_type": "execute_result"
    }
   ],
   "source": [
    "old_result['image']"
   ]
  },
  {
   "cell_type": "code",
   "execution_count": 47,
   "metadata": {},
   "outputs": [
    {
     "name": "stdout",
     "output_type": "stream",
     "text": [
      "Congratulations, everything matches!\n"
     ]
    }
   ],
   "source": [
    "assert type(new_result) is dict, \"New result is not a dict\"\n",
    "assert set(old_result.keys()) == set(new_result.keys()), \"Key sets don't match\"\n",
    "for k in old_result:\n",
    "    assert torch.equal(old_result[k], new_result[k]), f\"Values for key {k} don't match\"\n",
    "print(\"Congratulations, everything matches!\")"
   ]
  },
  {
   "attachments": {},
   "cell_type": "markdown",
   "metadata": {},
   "source": [
    "# Test DDIMScheduler from Diffusers"
   ]
  },
  {
   "cell_type": "code",
   "execution_count": 10,
   "metadata": {},
   "outputs": [],
   "source": [
    "import torch\n",
    "from sd import remove_noise, DDIMScheduler\n",
    "import matplotlib.pyplot as plt\n",
    "model_key = 'stabilityai/stable-diffusion-2-1-base'\n",
    "scheduler = DDIMScheduler.from_pretrained(model_key, subfolder=\"scheduler\", torch_dtype=torch.float16)"
   ]
  },
  {
   "cell_type": "code",
   "execution_count": 4,
   "metadata": {},
   "outputs": [
    {
     "data": {
      "text/plain": [
       "1000"
      ]
     },
     "execution_count": 4,
     "metadata": {},
     "output_type": "execute_result"
    }
   ],
   "source": [
    "scheduler.num_train_timesteps"
   ]
  },
  {
   "cell_type": "code",
   "execution_count": 20,
   "metadata": {},
   "outputs": [],
   "source": [
    "img = torch.rand(1, 3, 64)\n",
    "noise = torch.rand_like(img)\n",
    "t = torch.randint(20, 980 + 1, size=[1])"
   ]
  },
  {
   "cell_type": "code",
   "execution_count": 21,
   "metadata": {},
   "outputs": [],
   "source": [
    "img_noisy = scheduler.add_noise(img, noise, t)"
   ]
  },
  {
   "cell_type": "code",
   "execution_count": 22,
   "metadata": {},
   "outputs": [],
   "source": [
    "img_denoised = remove_noise(scheduler, img_noisy, t, noise)"
   ]
  },
  {
   "cell_type": "code",
   "execution_count": 23,
   "metadata": {},
   "outputs": [
    {
     "data": {
      "text/plain": [
       "tensor(1.1921e-07)"
      ]
     },
     "execution_count": 23,
     "metadata": {},
     "output_type": "execute_result"
    }
   ],
   "source": [
    "(img - img_denoised).abs().max()"
   ]
  }
 ],
 "metadata": {
  "kernelspec": {
   "display_name": "dreamfusion",
   "language": "python",
   "name": "python3"
  },
  "language_info": {
   "codemirror_mode": {
    "name": "ipython",
    "version": 3
   },
   "file_extension": ".py",
   "mimetype": "text/x-python",
   "name": "python",
   "nbconvert_exporter": "python",
   "pygments_lexer": "ipython3",
   "version": "3.10.9"
  },
  "orig_nbformat": 4
 },
 "nbformat": 4,
 "nbformat_minor": 2
}
